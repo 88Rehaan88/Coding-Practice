{
 "cells": [
  {
   "cell_type": "code",
   "execution_count": 2,
   "id": "15cf8603",
   "metadata": {},
   "outputs": [],
   "source": [
    "import torch\n",
    "import torch.nn as nn  #module for building neural network\n",
    "import torch.optim as optim # optimizer"
   ]
  },
  {
   "cell_type": "code",
   "execution_count": 3,
   "id": "f2b3ab6c",
   "metadata": {},
   "outputs": [
    {
     "name": "stdout",
     "output_type": "stream",
     "text": [
      "Epoch [1/10], Loss: 0.6976\n",
      "Epoch [2/10], Loss: 0.6947\n",
      "Epoch [3/10], Loss: 0.6919\n",
      "Epoch [4/10], Loss: 0.6892\n",
      "Epoch [5/10], Loss: 0.6867\n",
      "Epoch [6/10], Loss: 0.6842\n",
      "Epoch [7/10], Loss: 0.6818\n",
      "Epoch [8/10], Loss: 0.6795\n",
      "Epoch [9/10], Loss: 0.6772\n",
      "Epoch [10/10], Loss: 0.6751\n"
     ]
    }
   ],
   "source": [
    "# Define the MLP model\n",
    "class MLP(nn.Module):\n",
    "    def __init__(self, input_size, hidden_size, output_size):\n",
    "        super(MLP, self).__init__()\n",
    "        self.fc1 = nn.Linear(input_size, hidden_size)  # Input layer\n",
    "        self.relu = nn.ReLU()  # Activation function\n",
    "        self.fc2 = nn.Linear(hidden_size, output_size)  # Output layer\n",
    "\n",
    "    def forward(self, x):\n",
    "        out = self.fc1(x)\n",
    "        out = self.relu(out)\n",
    "        out = self.fc2(out)\n",
    "        return out\n",
    "\n",
    "# Hyperparameters\n",
    "input_size = 10  # Number of input features\n",
    "hidden_size = 50  # Number of neurons in the hidden layer\n",
    "output_size = 2  # Number of classes\n",
    "learning_rate = 0.001\n",
    "num_epochs = 10\n",
    "\n",
    "# Create the model\n",
    "model = MLP(input_size, hidden_size, output_size)\n",
    "\n",
    "# Define loss function and optimizer\n",
    "criterion = nn.CrossEntropyLoss()\n",
    "optimizer = optim.Adam(model.parameters(), lr=learning_rate)\n",
    "\n",
    "# Dummy data (replace with real data)\n",
    "x = torch.randn(100, input_size)  # 100 samples, 10 features each\n",
    "y = torch.randint(0, output_size, (100,))  # 100 labels (0 or 1)\n",
    "\n",
    "# Training loop\n",
    "for epoch in range(num_epochs):\n",
    "    # Forward pass\n",
    "    outputs = model(x)\n",
    "    loss = criterion(outputs, y)\n",
    "\n",
    "    # Backward pass and optimization\n",
    "    optimizer.zero_grad()  # Clears gradients before each epoch starts\n",
    "    loss.backward()  # Compute gradients after each epoch\n",
    "    optimizer.step()  # Update weights once per each epoch \n",
    "\n",
    "    print(f\"Epoch [{epoch+1}/{num_epochs}], Loss: {loss.item():.4f}\")"
   ]
  }
 ],
 "metadata": {
  "kernelspec": {
   "display_name": "Python 3 (ipykernel)",
   "language": "python",
   "name": "python3"
  },
  "language_info": {
   "codemirror_mode": {
    "name": "ipython",
    "version": 3
   },
   "file_extension": ".py",
   "mimetype": "text/x-python",
   "name": "python",
   "nbconvert_exporter": "python",
   "pygments_lexer": "ipython3",
   "version": "3.9.13"
  }
 },
 "nbformat": 4,
 "nbformat_minor": 5
}
